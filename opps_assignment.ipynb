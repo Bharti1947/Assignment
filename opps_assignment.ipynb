{
  "nbformat": 4,
  "nbformat_minor": 0,
  "metadata": {
    "colab": {
      "provenance": []
    },
    "kernelspec": {
      "name": "python3",
      "display_name": "Python 3"
    },
    "language_info": {
      "name": "python"
    }
  },
  "cells": [
    {
      "cell_type": "markdown",
      "source": [
        "1. What are the five key concepts of Object-Oriented Programming (OOP)?"
      ],
      "metadata": {
        "id": "7Lkj0YVb4OcV"
      }
    },
    {
      "cell_type": "code",
      "source": [
        "#Class: A blueprint for creating objects with attributes and methods.\n",
        "#Object: An instance of a class.\n",
        "#Encapsulation: Bundling data and methods, restricting direct access to some components.\n",
        "#Inheritance: A class can inherit attributes and methods from another class.\n",
        "#Polymorphism: Objects can share methods but behave differently based on the object calling them."
      ],
      "metadata": {
        "id": "61zo_Acf4VO-"
      },
      "execution_count": null,
      "outputs": []
    },
    {
      "cell_type": "markdown",
      "source": [
        "2. Write a Python class for a Car with attributes for make, model, and year. Include a method to display\n",
        "the car's information."
      ],
      "metadata": {
        "id": "bHDgyX5V45sJ"
      }
    },
    {
      "cell_type": "code",
      "source": [
        "class Car:\n",
        "    def __init__(self, make, model, year):\n",
        "        self.make = make\n",
        "        self.model = model\n",
        "        self.year = year\n",
        "\n",
        "    def display_info(self):\n",
        "        print(f\"Car Information: {self.year} {self.make} {self.model}\")\n",
        "\n",
        "my_car = Car(\"Toyota\", \"Corolla\", 2024)\n",
        "my_car.display_info()\n"
      ],
      "metadata": {
        "colab": {
          "base_uri": "https://localhost:8080/"
        },
        "id": "Ex8LZ8Sx5CCm",
        "outputId": "b998d3ff-7ce2-4e86-acf9-27f01f89a2c5"
      },
      "execution_count": 3,
      "outputs": [
        {
          "output_type": "stream",
          "name": "stdout",
          "text": [
            "Car Information: 2024 Toyota Corolla\n"
          ]
        }
      ]
    },
    {
      "cell_type": "markdown",
      "source": [
        "3. Explain the difference between instance methods and class methods. Provide an example of each."
      ],
      "metadata": {
        "id": "nwKnBGoODLrt"
      }
    },
    {
      "cell_type": "code",
      "source": [
        "# Instance Methods:-\n",
        "# Work with individual objects of a class.\n",
        "# Can access and modify object-specific data.\n",
        "# First parameter is self (refers to the object)."
      ],
      "metadata": {
        "id": "PuI1XynaCh0E"
      },
      "execution_count": null,
      "outputs": []
    },
    {
      "cell_type": "code",
      "source": [
        "# Instance method\n",
        "class Car:\n",
        "    def __init__(self, make):\n",
        "        self.make = make\n",
        "\n",
        "    def show_make(self):\n",
        "        print(f\"Car make: {self.make}\")\n",
        "\n",
        "car1 = Car(\"Toyota\")\n",
        "car1.show_make()\n"
      ],
      "metadata": {
        "colab": {
          "base_uri": "https://localhost:8080/"
        },
        "id": "x2aRf_a0EKxX",
        "outputId": "adb1cb50-6911-459d-c727-5a077b520ef6"
      },
      "execution_count": 4,
      "outputs": [
        {
          "output_type": "stream",
          "name": "stdout",
          "text": [
            "Car make: Toyota\n"
          ]
        }
      ]
    },
    {
      "cell_type": "code",
      "source": [
        "# Class Methods:-\n",
        "# Work with the class itself, not individual objects.\n",
        "# Access shared class-level data.\n",
        "# First parameter is cls (refers to the class)."
      ],
      "metadata": {
        "id": "RkoJoaTNETZP"
      },
      "execution_count": null,
      "outputs": []
    },
    {
      "cell_type": "code",
      "source": [
        "# Class Method\n",
        "class Car:\n",
        "    car_count = 0\n",
        "\n",
        "    def __init__(self, make):\n",
        "        self.make = make\n",
        "        Car.car_count += 1\n",
        "\n",
        "    @classmethod\n",
        "    def show_car_count(cls):\n",
        "        print(f\"Total cars: {cls.car_count}\")\n",
        "\n",
        "car1 = Car(\"Toyota\")\n",
        "Car.show_car_count()\n"
      ],
      "metadata": {
        "colab": {
          "base_uri": "https://localhost:8080/"
        },
        "id": "lUncS6uaE2Us",
        "outputId": "27c4219e-5b7b-47ff-e607-5005e20b3cfc"
      },
      "execution_count": 5,
      "outputs": [
        {
          "output_type": "stream",
          "name": "stdout",
          "text": [
            "Total cars: 1\n"
          ]
        }
      ]
    },
    {
      "cell_type": "markdown",
      "source": [
        "4. How does Python implement method overloading? Give an example."
      ],
      "metadata": {
        "id": "aLwA8GCaFIK8"
      }
    },
    {
      "cell_type": "code",
      "source": [
        "# python does not support method overloading directly (having multiple methods with the same name but different parameters). However, we can mimic it using default arguments or *args (variable arguments)."
      ],
      "metadata": {
        "id": "bDaaTl7ZFAt6"
      },
      "execution_count": null,
      "outputs": []
    },
    {
      "cell_type": "code",
      "source": [
        "class Calculator:\n",
        "    def add(self, a, b=0):\n",
        "        return a + b\n",
        "\n",
        "calc = Calculator()\n",
        "print(calc.add(10))\n",
        "print(calc.add(10, 20))\n"
      ],
      "metadata": {
        "colab": {
          "base_uri": "https://localhost:8080/"
        },
        "id": "WOouv3qFF3FY",
        "outputId": "1b97a5c8-d77d-4eab-cc67-de11f17a893d"
      },
      "execution_count": 7,
      "outputs": [
        {
          "output_type": "stream",
          "name": "stdout",
          "text": [
            "10\n",
            "30\n"
          ]
        }
      ]
    },
    {
      "cell_type": "code",
      "source": [
        "# with args\n",
        "class Calculator:\n",
        "    def add(self, *args):\n",
        "        return sum(args)\n",
        "\n",
        "calc = Calculator()\n",
        "print(calc.add(10))\n",
        "print(calc.add(10, 20))\n",
        "print(calc.add(10, 20, 30))\n"
      ],
      "metadata": {
        "colab": {
          "base_uri": "https://localhost:8080/"
        },
        "id": "g0e25Ho3F9Nl",
        "outputId": "e2c0d695-b348-4188-95cf-42bc0ed85869"
      },
      "execution_count": 8,
      "outputs": [
        {
          "output_type": "stream",
          "name": "stdout",
          "text": [
            "10\n",
            "30\n",
            "60\n"
          ]
        }
      ]
    },
    {
      "cell_type": "markdown",
      "source": [
        "5. What are the three types of access modifiers in Python? How are they denoted?"
      ],
      "metadata": {
        "id": "XR-fSNJbGbMu"
      }
    },
    {
      "cell_type": "code",
      "source": [
        "#In Python, the three types of access modifiers are:\n",
        "#Public: No underscore (e.g., self.var) – accessible everywhere.\n",
        "#Protected: Single underscore (e.g., self._var) – accessible within the class and subclasses.\n",
        "#Private: Double underscore (e.g., self.__var) – accessible only within the class."
      ],
      "metadata": {
        "id": "Q1JVSlnFGjxu"
      },
      "execution_count": null,
      "outputs": []
    },
    {
      "cell_type": "markdown",
      "source": [
        "6. Describe the five types of inheritance in Python. Provide a simple example of multiple inheritance.\n"
      ],
      "metadata": {
        "id": "UFdVSDHXGi5z"
      }
    },
    {
      "cell_type": "code",
      "source": [
        "# Five types of inheritance are:-\n",
        "# Single Inheritance: A class inherits from one parent class.\n",
        "# Multiple Inheritance: A class inherits from multiple parent classes.\n",
        "# Multilevel Inheritance: A class inherits from a parent class, which is also a child of another class.\n",
        "# Hierarchical Inheritance: Multiple classes inherit from the same parent class.\n",
        "# Hybrid Inheritance: A combination of two or more types of inheritance.\n"
      ],
      "metadata": {
        "id": "dGTjaQseGVUg"
      },
      "execution_count": null,
      "outputs": []
    },
    {
      "cell_type": "code",
      "source": [
        "# Multiple inheritance\n",
        "class Parent1:\n",
        "    def method1(self):\n",
        "        return \"Hello from Parent1\"\n",
        "\n",
        "class Parent2:\n",
        "    def method2(self):\n",
        "        return \"Goodbye from Parent2\"\n",
        "\n",
        "class Child(Parent1, Parent2):\n",
        "    def method3(self):\n",
        "        return \"I am the Child class\"\n",
        "\n",
        "obj = Child()\n",
        "print(obj.method1())\n",
        "print(obj.method2())\n",
        "print(obj.method3())\n"
      ],
      "metadata": {
        "colab": {
          "base_uri": "https://localhost:8080/"
        },
        "id": "xApRPM36JgMJ",
        "outputId": "c54634c3-f145-4481-af90-f8029106de4f"
      },
      "execution_count": 10,
      "outputs": [
        {
          "output_type": "stream",
          "name": "stdout",
          "text": [
            "Hello from Parent1\n",
            "Goodbye from Parent2\n",
            "I am the Child class\n"
          ]
        }
      ]
    },
    {
      "cell_type": "markdown",
      "source": [
        "7. What is the Method Resolution Order (MRO) in Python? How can you retrieve it programmatically?\n"
      ],
      "metadata": {
        "id": "cCcDYB-RKcv7"
      }
    },
    {
      "cell_type": "code",
      "source": [
        "# Method Resolution Order (MRO) in Python is the order in which Python looks for methods and attributes in classes, particularly in the case of multiple inheritance.\n",
        "# It ensures a consistent and predictable way to resolve method calls.\n",
        "# we can retrieve the MRO of a class using the mro() method or the __mro__ attribute."
      ],
      "metadata": {
        "id": "imMr4ncHJ616"
      },
      "execution_count": null,
      "outputs": []
    },
    {
      "cell_type": "code",
      "source": [
        "class A: pass\n",
        "class B(A): pass\n",
        "class C(A): pass\n",
        "class D(B, C): pass\n",
        "\n",
        "# Using mro() method\n",
        "print(D.mro())  # Output: [<class '__main__.D'>, <class '__main__.B'>, <class '__main__.C'>, <class '__main__.A'>, <class 'object'>]\n",
        "\n",
        "# Using __mro__ attribute\n",
        "print(D.__mro__)  # Output: (<class '__main__.D'>, <class '__main__.B'>, <class '__main__.C'>, <class '__main__.A'>, <class 'object'>)\n"
      ],
      "metadata": {
        "colab": {
          "base_uri": "https://localhost:8080/"
        },
        "id": "Fbw8G5_GLDwA",
        "outputId": "0da835e5-d35f-4551-df8f-f43d21335f22"
      },
      "execution_count": 13,
      "outputs": [
        {
          "output_type": "stream",
          "name": "stdout",
          "text": [
            "[<class '__main__.D'>, <class '__main__.B'>, <class '__main__.C'>, <class '__main__.A'>, <class 'object'>]\n",
            "(<class '__main__.D'>, <class '__main__.B'>, <class '__main__.C'>, <class '__main__.A'>, <class 'object'>)\n"
          ]
        }
      ]
    },
    {
      "cell_type": "markdown",
      "source": [
        "8. Create an abstract base class Shape with an abstract method area(). Then create two subclasses\n",
        "Circle and Rectangle that implement the area() method."
      ],
      "metadata": {
        "id": "buIijGq8LwTs"
      }
    },
    {
      "cell_type": "code",
      "source": [
        "from abc import ABC, abstractmethod\n",
        "import math\n",
        "\n",
        "# Abstract Base Class\n",
        "class Shape(ABC):\n",
        "    @abstractmethod\n",
        "    def area(self):\n",
        "        pass\n",
        "\n",
        "# Subclass for Circle\n",
        "class Circle(Shape):\n",
        "    def __init__(self, radius):\n",
        "        self.radius = radius\n",
        "\n",
        "    def area(self):\n",
        "        return math.pi * (self.radius ** 2)\n",
        "\n",
        "# Subclass for Rectangle\n",
        "class Rectangle(Shape):\n",
        "    def __init__(self, width, height):\n",
        "        self.width = width\n",
        "        self.height = height\n",
        "\n",
        "    def area(self):\n",
        "        return self.width * self.height\n",
        "\n",
        "circle = Circle(7)\n",
        "rectangle = Rectangle(4, 6)\n",
        "\n",
        "print(f\"Area of Circle: {circle.area()}\")\n",
        "print(f\"Area of Rectangle: {rectangle.area()}\")\n"
      ],
      "metadata": {
        "colab": {
          "base_uri": "https://localhost:8080/"
        },
        "id": "XGLeqqfdLu04",
        "outputId": "b7edeecf-570c-43c1-d1dc-dbe31d67329f"
      },
      "execution_count": 15,
      "outputs": [
        {
          "output_type": "stream",
          "name": "stdout",
          "text": [
            "Area of Circle: 153.93804002589985\n",
            "Area of Rectangle: 24\n"
          ]
        }
      ]
    },
    {
      "cell_type": "markdown",
      "source": [
        "9. Demonstrate polymorphism by creating a function that can work with different shape objects to calculate\n",
        "and print their areas.\n"
      ],
      "metadata": {
        "id": "ob5-yeEVM3r6"
      }
    },
    {
      "cell_type": "code",
      "source": [
        "# Polymorphism allows methods to use objects of different classes through the same interface.\n",
        "class Shape:\n",
        "    def area(self):\n",
        "        pass\n",
        "\n",
        "# Define a Circle class\n",
        "class Circle(Shape):\n",
        "    def __init__(self, radius):\n",
        "        self.radius = radius\n",
        "\n",
        "    def area(self):\n",
        "        return 22/7 * (self.radius ** 2)\n",
        "\n",
        "# Define a Rectangle class\n",
        "class Rectangle(Shape):\n",
        "    def __init__(self, width, height):\n",
        "        self.width = width\n",
        "        self.height = height\n",
        "\n",
        "    def area(self):\n",
        "        return self.width * self.height\n",
        "\n",
        "# Function to print the area of any shape\n",
        "def print_area(shape):\n",
        "    print(f\"The area is: {shape.area()}\")\n",
        "\n",
        "# Create objects of Circle and Rectangle\n",
        "circle = Circle(7)\n",
        "rectangle = Rectangle(4, 5)\n",
        "\n",
        "# Call the function with different shapes\n",
        "print_area(circle)\n",
        "print_area(rectangle)\n"
      ],
      "metadata": {
        "colab": {
          "base_uri": "https://localhost:8080/"
        },
        "id": "Wvf4PddmMqTF",
        "outputId": "57ad5277-2b6f-409b-9bf7-ac10cc19cb68"
      },
      "execution_count": 19,
      "outputs": [
        {
          "output_type": "stream",
          "name": "stdout",
          "text": [
            "The area is: 154.0\n",
            "The area is: 20\n"
          ]
        }
      ]
    },
    {
      "cell_type": "markdown",
      "source": [
        "10. Implement encapsulation in a BankAccount class with private attributes for balance and\n",
        "account_number. Include methods for deposit, withdrawal, and balance inquiry.\n"
      ],
      "metadata": {
        "id": "zAvQXBALO0Lu"
      }
    },
    {
      "cell_type": "code",
      "source": [
        "class BankAccount:\n",
        "    def __init__(self, account_number, initial_balance=0):\n",
        "        self.__account_number = account_number\n",
        "        self.__balance = initial_balance\n",
        "\n",
        "    def deposit(self, amount):\n",
        "        if amount > 0:\n",
        "            self.__balance += amount\n",
        "\n",
        "    def withdraw(self, amount):\n",
        "        if 0 < amount <= self.__balance:\n",
        "            self.__balance -= amount\n",
        "\n",
        "    def get_balance(self):\n",
        "        return self.__balance\n",
        "\n",
        "# Example usage\n",
        "account = BankAccount(\"123456\", 1000)\n",
        "\n",
        "account.deposit(2000)\n",
        "account.withdraw(500)\n",
        "print(\"Current Balance:\", account.get_balance())\n"
      ],
      "metadata": {
        "colab": {
          "base_uri": "https://localhost:8080/"
        },
        "id": "15nRcs9gOXrG",
        "outputId": "b88a7c95-0bd1-4394-90ec-e1c35a377c86"
      },
      "execution_count": 21,
      "outputs": [
        {
          "output_type": "stream",
          "name": "stdout",
          "text": [
            "Current Balance: 2500\n"
          ]
        }
      ]
    },
    {
      "cell_type": "markdown",
      "source": [
        "11. Write a class that overrides the _ _str_ _ and _ _add_ _ magic methods. What will these methods allow\n",
        "you to do?"
      ],
      "metadata": {
        "id": "iL6uNpGXQTaU"
      }
    },
    {
      "cell_type": "code",
      "source": [
        "class Book:\n",
        "    def __init__(self, title, author):\n",
        "        self.title = title\n",
        "        self.author = author\n",
        "\n",
        "    def __str__(self):\n",
        "        return f\"'{self.title}' by {self.author}\"\n",
        "\n",
        "    def __add__(self, other):\n",
        "        if isinstance(other, Book):\n",
        "            return Book(f\"{self.title} & {other.title}\", f\"{self.author} and {other.author}\")\n",
        "        return NotImplemented\n",
        "\n",
        "\n",
        "book1 = Book(\"CAT\", \"Arun Sharma\")\n",
        "book2 = Book(\"The discovery of India\", \"Jawaharlal Nehru\")\n",
        "\n",
        "print(book1)\n",
        "print(book2)\n",
        "\n",
        "# Adding two books\n",
        "combined_book = book1 + book2\n",
        "print(combined_book)\n"
      ],
      "metadata": {
        "colab": {
          "base_uri": "https://localhost:8080/"
        },
        "id": "fFmvCM9MQSqG",
        "outputId": "bcd9017b-b362-4134-bdb5-a772f0519822"
      },
      "execution_count": 23,
      "outputs": [
        {
          "output_type": "stream",
          "name": "stdout",
          "text": [
            "'CAT' by Arun Sharma\n",
            "'The discovery of India' by Jawaharlal Nehru\n",
            "'CAT & The discovery of India' by Arun Sharma and Jawaharlal Nehru\n"
          ]
        }
      ]
    },
    {
      "cell_type": "markdown",
      "source": [
        "12. Create a decorator that measures and prints the execution time of a function.\n"
      ],
      "metadata": {
        "id": "i9c9YaekR6Pb"
      }
    },
    {
      "cell_type": "code",
      "source": [
        "import time\n",
        "\n",
        "def timing_decorator(func):\n",
        "    def wrapper(*args, **kwargs):\n",
        "        start_time = time.time()\n",
        "        result = func(*args, **kwargs)\n",
        "        end_time = time.time()\n",
        "        execution_time = end_time - start_time\n",
        "        print(f\"Execution time: {execution_time:.4f} seconds\")\n",
        "        return result\n",
        "    return wrapper\n",
        "\n",
        "# Example usage\n",
        "@timing_decorator\n",
        "def example_function(n):\n",
        "    total = 0\n",
        "    for i in range(n):\n",
        "        total += i\n",
        "    return total\n",
        "\n",
        "\n",
        "result = example_function(1000000)\n",
        "print(\"Result:\", result)\n"
      ],
      "metadata": {
        "colab": {
          "base_uri": "https://localhost:8080/"
        },
        "id": "Y42n4bE-R7nv",
        "outputId": "b0afa673-3825-4a42-ac99-8d6bc1af0ad8"
      },
      "execution_count": 27,
      "outputs": [
        {
          "output_type": "stream",
          "name": "stdout",
          "text": [
            "Execution time: 0.0726 seconds\n",
            "Result: 499999500000\n"
          ]
        }
      ]
    },
    {
      "cell_type": "markdown",
      "source": [
        "13. Explain the concept of the Diamond Problem in multiple inheritance. How does Python resolve it?"
      ],
      "metadata": {
        "id": "DF4Iz0HETkYp"
      }
    },
    {
      "cell_type": "code",
      "source": [
        "# The Diamond Problem occurs in multiple inheritance when a class inherits from two classes that both inherit from a common ancestor, leading to ambiguity in method resolution.\n",
        "# Python uses Method Resolution Order (MRO) to determine the order in which classes are searched for methods."
      ],
      "metadata": {
        "id": "Q5qor7OWStkx"
      },
      "execution_count": null,
      "outputs": []
    },
    {
      "cell_type": "code",
      "source": [
        "class A:\n",
        "    def show(self):\n",
        "        print(\"A\")\n",
        "\n",
        "class B(A):\n",
        "    def show(self):\n",
        "        print(\"B\")\n",
        "\n",
        "class C(A):\n",
        "    def show(self):\n",
        "        print(\"C\")\n",
        "\n",
        "class D(B, C):\n",
        "    pass\n",
        "\n",
        "d = D()\n",
        "d.show()\n"
      ],
      "metadata": {
        "colab": {
          "base_uri": "https://localhost:8080/"
        },
        "id": "jnnUPvOAUN1M",
        "outputId": "9e310197-bae6-4f27-dd74-c4cb57f90882"
      },
      "execution_count": 29,
      "outputs": [
        {
          "output_type": "stream",
          "name": "stdout",
          "text": [
            "B\n"
          ]
        }
      ]
    },
    {
      "cell_type": "markdown",
      "source": [
        "14. Write a class method that keeps track of the number of instances created from a class.\n"
      ],
      "metadata": {
        "id": "kavCvhXDUugJ"
      }
    },
    {
      "cell_type": "code",
      "source": [
        "class InstanceCounter:\n",
        "    # Class variable to keep track of the number of instances\n",
        "    instance_count = 0\n",
        "\n",
        "    def __init__(self):\n",
        "        # Increment the instance count each time a new instance is created\n",
        "        InstanceCounter.instance_count += 1\n",
        "\n",
        "    @classmethod\n",
        "    def get_instance_count(cls):\n",
        "        # Class method to return the current count of instances\n",
        "        return cls.instance_count\n",
        "\n",
        "# Creating instances of the class\n",
        "obj1 = InstanceCounter()\n",
        "obj2 = InstanceCounter()\n",
        "obj3 = InstanceCounter()\n",
        "\n",
        "# Getting the current count of instances\n",
        "print(InstanceCounter.get_instance_count())\n"
      ],
      "metadata": {
        "colab": {
          "base_uri": "https://localhost:8080/"
        },
        "id": "PnQvgbANUSK_",
        "outputId": "fe8ae7dc-14b3-4a78-d0af-04fba75e5d30"
      },
      "execution_count": 30,
      "outputs": [
        {
          "output_type": "stream",
          "name": "stdout",
          "text": [
            "3\n"
          ]
        }
      ]
    },
    {
      "cell_type": "markdown",
      "source": [
        "15. Implement a static method in a class that checks if a given year is a leap year."
      ],
      "metadata": {
        "id": "Xqn8Tr7zVPhO"
      }
    },
    {
      "cell_type": "code",
      "source": [
        "class YearChecker:\n",
        "    @staticmethod\n",
        "    def is_leap_year(year):\n",
        "        if (year % 4 == 0 and year % 100 != 0) or (year % 400 == 0):\n",
        "            return True\n",
        "        else:\n",
        "            return False\n",
        "\n",
        "\n",
        "year = 2024\n",
        "if YearChecker.is_leap_year(year):\n",
        "    print(f\"{year} is a leap year.\")\n",
        "else:\n",
        "    print(f\"{year} is not a leap year.\")\n"
      ],
      "metadata": {
        "colab": {
          "base_uri": "https://localhost:8080/"
        },
        "id": "6ssNZWLQVAEk",
        "outputId": "4c0f5f57-e1dc-4f4f-e617-f23b38692c0a"
      },
      "execution_count": 31,
      "outputs": [
        {
          "output_type": "stream",
          "name": "stdout",
          "text": [
            "2024 is a leap year.\n"
          ]
        }
      ]
    },
    {
      "cell_type": "code",
      "source": [],
      "metadata": {
        "id": "nVr63msfVl68"
      },
      "execution_count": null,
      "outputs": []
    }
  ]
}